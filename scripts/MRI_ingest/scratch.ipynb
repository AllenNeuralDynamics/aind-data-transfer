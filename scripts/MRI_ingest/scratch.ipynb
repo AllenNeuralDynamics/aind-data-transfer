{
 "cells": [
  {
   "cell_type": "code",
   "execution_count": 1,
   "metadata": {},
   "outputs": [],
   "source": [
    "from bruker2nifti._metadata import BrukerMetadata\n",
    "from pathlib import Path\n",
    "from aind_data_schema.models.coordinates import Rotation3dTransform, Scale3dTransform, Translation3dTransform\n",
    "\n",
    "import logging\n",
    "import numpy as np\n",
    "\n",
    "from datetime import datetime"
   ]
  },
  {
   "cell_type": "code",
   "execution_count": 2,
   "metadata": {},
   "outputs": [],
   "source": [
    "log_file_name = \"./log_files/log_\" + datetime.now().strftime(\"%Y%m%d_%H%M%S\") + \".log\"\n",
    "logger = logging.getLogger()\n",
    "logger.setLevel(logging.DEBUG)\n",
    "# create file handler which logs even debug messages\n",
    "fh = logging.FileHandler(log_file_name, 'w', 'utf-8')\n",
    "fh.setLevel(logging.DEBUG)\n",
    "\n",
    "# create formatter and add it to the handlers\n",
    "formatter = logging.Formatter('%(asctime)s - %(name)s - %(levelname)s - %(message)s')\n",
    "fh.setFormatter(formatter)\n",
    "# add the handlers to logger\n",
    "logger.addHandler(fh)"
   ]
  },
  {
   "cell_type": "code",
   "execution_count": 3,
   "metadata": {},
   "outputs": [
    {
     "name": "stdout",
     "output_type": "stream",
     "text": [
      "['1', '2', '3', '4', '5', '6', '7']\n",
      "['1']\n",
      "{'reco': {'TITLE': 'Parameter List', 'JCAMPDX': 4.24, 'DATATYPE': 'Parameter Values', 'ORIGIN': 'Bruker BioSpin MRI GmbH', 'OWNER': 'dhlee', 'RECO_mode': 'FT_MODE', 'RecoAutoDerive': 'Yes', 'RECO_inp_order': 'NO_REORDERING', 'RECO_inp_size': array([400., 164., 130.]), 'RECO_ft_size': array([400., 166., 130.]), 'RECO_fov': array([2. , 1.4, 1.3]), 'RECO_size': array([200., 140., 130.]), 'RECO_offset': array([[100.],\n",
      "       [ 13.],\n",
      "       [  0.]]), 'RECO_regrid_mode': 'NO_REGRID', 'RECO_regrid_offset': 0.0, 'RECO_ramp_gap': 0.0, 'RECO_ramp_time': 0.0, 'RECO_ne_mode': 'NO_NAV_DATA', 'RECO_ne_dist': 'NeNoInterleave', 'RECO_ne_dens': 'NeCorrPerScan', 'RECO_ne_type': 'NAV_PHASE', 'RECO_ne_vals': array([[0., 0.]]), 'RECO_bc_mode': 'NO_BC NO_BC NO_BC', 'RECO_bc_start': array([300., 123.,  98.]), 'RECO_bc_len': array([100.,  41.,  32.]), 'RECO_dc_offset': array([0., 0.]), 'RECO_dc_divisor': 1.0, 'RECO_bc_coroff': array([0., 0., 0.]), 'RECO_qopts': 'CONJ_AND_QNEG NO_QOPTS NO_QOPTS', 'RECO_wdw_mode': 'NO_WDW NO_WDW NO_WDW', 'RECO_lb': array([-0.5, -0.5, -0.5]), 'RECO_sw': array([2.e+05, 1.e+00, 1.e+00]), 'RECO_gb': array([0.5, 0.5, 0.5]), 'RECO_sbs': array([1., 1., 1.]), 'RECO_tm1': array([0.25, 0.25, 0.25]), 'RECO_tm2': array([0.75, 0.75, 0.75]), 'RECO_ft_mode': 'COMPLEX_FT COMPLEX_FT COMPLEX_FT', 'RECO_pc_mode': 'NO_PC NO_PC NO_PC', 'RECO_pc_lin': ['(0, 0)', '(0, 0)', '(0, 0)'], 'RECO_rotate': array([[0.        ],\n",
      "       [0.44578313],\n",
      "       [0.45384615]]), 'RECO_ppc_mode': 'NO_PPC', 'RECO_ref_image': 0.0, 'RECO_nr_supports': 0.4, 'RECO_sig_threshold': 0.15, 'RECO_ppc_degree': 1.0, 'RECO_ppc_coeffs': array([[[0., 0.],\n",
      "        [0., 0.],\n",
      "        [0., 0.]]]), 'RECO_dc_elim': 'No', 'RECO_transposition': 1.0, 'RECO_image_type': 'MAGNITUDE_IMAGE', 'RECO_image_threshold': 0.15, 'RECO_ir_scale': 10.0, 'RECO_wordtype': '_16BIT_SGN_INT', 'RECO_map_mode': 'PERCENTILE_MAPPING', 'RECO_map_range': array([-2.14748365e+09,  2.14748365e+09]), 'RECO_map_percentile': array([ 1.   , 99.999]), 'RECO_map_error': 0.00025, 'RECO_globex': 0.0, 'RECO_minima': 49.0, 'RECO_maxima': 32766.0, 'RECO_map_min': -13236953.9213779, 'RECO_map_max': 13236953.9213779, 'RECO_map_offset': 0.0, 'RECO_map_slope': 0.0024754183832556, 'RECO_byte_order': 'littleEndian', 'RECO_time': '11:27:33 21 Jul 2023', 'RECO_abs_time': 1689964053.0, 'RECO_base_image_uid': '2.16.756.5.5.100.380435303.14105.1689969391.16', 'GS_reco_display': 'Yes', 'GO_reco_display': 'Yes', 'GO_reco_each_nr': 'No', 'GO_max_reco_mem': 0.0, 'END': ''}, 'visu_pars': {'TITLE': 'Parameter List', 'JCAMPDX': 4.24, 'DATATYPE': 'Parameter Values', 'ORIGIN': 'Bruker BioSpin MRI GmbH', 'OWNER': 'dhlee', 'VisuVersion': 1.0, 'VisuUid': '2.16.756.5.5.100.380435303.14105.1689969391.16', 'VisuCreator': 'ParaVision', 'VisuCreatorVersion': '5.1', 'VisuCreationDate': '11:27:33 21 Jul 2023', 'VisuCoreFrameCount': 1.0, 'VisuCoreDim': 3.0, 'VisuCoreSize': array([140., 200., 130.]), 'VisuCoreDimDesc': 'spatial spatial spatial', 'VisuCoreExtent': array([14., 20., 13.]), 'VisuCoreFrameThickness': 13.0, 'VisuCoreUnits': ['mm', 'mm', 'mm'], 'VisuCoreOrientation': array([[ 1.,  0.,  0.,  0.,  0., -1.,  0.,  1.,  0.]]), 'VisuCorePosition': array([[-6.1, -7. ,  7.9]]), 'VisuCoreDataMin': 49.0, 'VisuCoreDataMax': 32766.0, 'VisuCoreDataOffs': 0.0, 'VisuCoreDataSlope': 403.972115083361, 'VisuCoreFrameType': 'MAGNITUDE_IMAGE', 'VisuCoreWordType': '_16BIT_SGN_INT', 'VisuCoreByteOrder': 'littleEndian', 'VisuCoreDiskSliceOrder': 'disk_reverse_slice_order', 'VisuSubjectName': 'DL_AI2', 'VisuSubjectId': 'DL_AI2', 'VisuSubjectBirthDate': '', 'VisuSubjectSex': 'FEMALE', 'VisuSubjectComment': 'DL_AI2', 'VisuStudyUid': '2.16.756.5.5.100.380435303.12267.1689961864.4394', 'VisuStudyDate': '11:51:04 21 Jul 2023', 'VisuStudyId': '684811_2023_07_21', 'VisuStudyNumber': 2.0, 'VisuSubjectWeight': 5.0, 'VisuStudyReferringPhysician': '', 'VisuStudyDescription': '684811_2023_07_21', 'VisuSeriesNumber': 458753.0, 'VisuSubjectPosition': 'Head_Supine', 'VisuSeriesTypeId': 'ACQ_BRUKER_PVM', 'VisuAcqSoftwareVersion': '5.1', 'VisuInstitution': 'University of Washington', 'VisuStation': 'spect', 'VisuAcqDate': '11:27:33 21 Jul 2023', 'VisuAcqEchoTrainLength': 4.0, 'VisuAcqSequenceName': '(RARE (pvm))', 'VisuAcqNumberOfAverages': 2.0, 'VisuAcqImagingFrequency': 599.486710243222, 'VisuAcqImagedNucleus': '1H', 'VisuAcqRepetitionTime': 500.0, 'VisuAcqPhaseEncSteps': 164.0, 'VisuAcqPixelBandwidth': 500.0, 'VisuAcqFlipAngle': 180.0, 'VisuAcqSize': array([164., 400., 130.]), 'VisuAcqImageSizeAccellerated': 'Yes', 'VisuAcqImagePhaseEncDir': 'row_slice_dir', 'VisuAcqEchoTime': 10.6666666666667, 'VisuAcquisitionProtocol': '07c_RARE_8_3D_T2w_cor', 'VisuAcqScanTime': 5330000.0, 'END': ''}}\n",
      "{'TITLE': 'Parameter List', 'JCAMPDX': 4.24, 'DATATYPE': 'Parameter Values', 'ORIGIN': 'Bruker BioSpin MRI GmbH', 'OWNER': 'dhlee', 'SUBJECT_version_nr': 2.0, 'SUBJECT_id': 'DL_AI2', 'SUBJECT_patient_instance_uid': '2.16.756.5.5.100.380435303.12267.1689961864.4393', 'SUBJECT_name_string': 'DL_AI2', 'SUBJECT_name': 'DL_AI2', 'SUBJECT_dbirth': '', 'SUBJECT_type': 'Human', 'SUBJECT_sex': 'female', 'SUBJECT_sex_human': 'Female', 'SUBJECT_remarks': 'DL_AI2', 'SUBJECT_study_name': '684811_2023_07_21', 'SUBJECT_study_nr': 2.0, 'SUBJECT_study_instance_uid': '2.16.756.5.5.100.380435303.12267.1689961864.4394', 'SUBJECT_size': 0.001, 'SUBJECT_weight': 5.0, 'SUBJECT_purpose': '684811_2023_07_21', 'SUBJECT_pos_valid': 'Yes', 'SUBJECT_location': 'DL_AI2', 'SUBJECT_entry': 'SUBJ_ENTRY_HeadFirst', 'SUBJECT_position': 'SUBJ_POS_Supine', 'SUBJECT_date': '10:51:04 21 Jul 2023', 'SUBJECT_abs_date': 1689961864.0, 'SUBJECT_study_coil_config_file': 'EDIT_unknown_unknown_unknown_unknown_1', 'END': ''}\n",
      "{'TITLE': 'Parameter List', 'JCAMPDX': 4.24, 'DATATYPE': 'Parameter Values', 'ORIGIN': 'Bruker BioSpin MRI GmbH', 'OWNER': 'dhlee', 'SUBJECT_version_nr': 2.0, 'SUBJECT_id': 'DL_AI2', 'SUBJECT_patient_instance_uid': '2.16.756.5.5.100.380435303.12267.1689961864.4393', 'SUBJECT_name_string': 'DL_AI2', 'SUBJECT_name': 'DL_AI2', 'SUBJECT_dbirth': '', 'SUBJECT_type': 'Human', 'SUBJECT_sex': 'female', 'SUBJECT_sex_human': 'Female', 'SUBJECT_remarks': 'DL_AI2', 'SUBJECT_study_name': '684811_2023_07_21', 'SUBJECT_study_nr': 2.0, 'SUBJECT_study_instance_uid': '2.16.756.5.5.100.380435303.12267.1689961864.4394', 'SUBJECT_size': 0.001, 'SUBJECT_weight': 5.0, 'SUBJECT_purpose': '684811_2023_07_21', 'SUBJECT_pos_valid': 'Yes', 'SUBJECT_location': 'DL_AI2', 'SUBJECT_entry': 'SUBJ_ENTRY_HeadFirst', 'SUBJECT_position': 'SUBJ_POS_Supine', 'SUBJECT_date': '10:51:04 21 Jul 2023', 'SUBJECT_abs_date': 1689961864.0, 'SUBJECT_study_coil_config_file': 'EDIT_unknown_unknown_unknown_unknown_1', 'END': ''}\n"
     ]
    }
   ],
   "source": [
    "path = Path(\"C:\\\\Users\\\\mae.moninghoff\\\\Documents\\\\GitHub\\\\aind-data-transfer\\\\scripts\\\\MRI_ingest\\\\MRI_files\\\\RawData-2023_07_21\\\\RAW\\\\DL_AI2.kX2\")\n",
    "\n",
    "metadata = BrukerMetadata(path)\n",
    "metadata.parse_scans()\n",
    "metadata.parse_subject()\n",
    "subj = metadata.read_subject()\n",
    "print(metadata.list_scans())\n",
    "print(metadata.list_recons(\"7\"))\n",
    "recon = metadata.read_recon(\"7\", \"1\")\n",
    "print(recon)\n",
    "print(subj)\n",
    "\n",
    "#best to look at are acqp and metadata files\n",
    "#reco / visupars can sometimes have useful data\n",
    "\n",
    "print(metadata.subject_data)"
   ]
  },
  {
   "cell_type": "code",
   "execution_count": 4,
   "metadata": {},
   "outputs": [
    {
     "name": "stdout",
     "output_type": "stream",
     "text": [
      "RARE\n",
      "[0.1 0.1 0.1]\n",
      "<class 'numpy.float64'>\n"
     ]
    }
   ],
   "source": [
    "# Checking Method Fields\n",
    "cur_method = metadata.scan_data['7']['method']\n",
    "\n",
    "# print(metadata.scan_data['7'].keys())\n",
    "# print(self.cur_method.keys())\n",
    "print(cur_method['Method'])\n",
    "# print(self.cur_method['EchoTime'])\n",
    "# print(self.cur_method['EffectiveTE'])\n",
    "# print(self.cur_method['RareFactor'])\n",
    "# print(self.cur_method['RepetitionTime'])\n",
    "print(cur_method['SpatResol'])\n",
    "print(type(cur_method['SpatResol'][0]))"
   ]
  },
  {
   "cell_type": "code",
   "execution_count": 5,
   "metadata": {},
   "outputs": [
    {
     "name": "stdout",
     "output_type": "stream",
     "text": [
      "{'TITLE': 'Parameter List', 'JCAMPDX': 4.24, 'DATATYPE': 'Parameter Values', 'ORIGIN': 'Bruker BioSpin MRI GmbH', 'OWNER': 'dhlee', 'VisuVersion': 1.0, 'VisuUid': '2.16.756.5.5.100.380435303.14105.1689969391.16', 'VisuCreator': 'ParaVision', 'VisuCreatorVersion': '5.1', 'VisuCreationDate': '11:27:33 21 Jul 2023', 'VisuCoreFrameCount': 1.0, 'VisuCoreDim': 3.0, 'VisuCoreSize': array([140., 200., 130.]), 'VisuCoreDimDesc': 'spatial spatial spatial', 'VisuCoreExtent': array([14., 20., 13.]), 'VisuCoreFrameThickness': 13.0, 'VisuCoreUnits': ['mm', 'mm', 'mm'], 'VisuCoreOrientation': array([[ 1.,  0.,  0.,  0.,  0., -1.,  0.,  1.,  0.]]), 'VisuCorePosition': array([[-6.1, -7. ,  7.9]]), 'VisuCoreDataMin': 49.0, 'VisuCoreDataMax': 32766.0, 'VisuCoreDataOffs': 0.0, 'VisuCoreDataSlope': 403.972115083361, 'VisuCoreFrameType': 'MAGNITUDE_IMAGE', 'VisuCoreWordType': '_16BIT_SGN_INT', 'VisuCoreByteOrder': 'littleEndian', 'VisuCoreDiskSliceOrder': 'disk_reverse_slice_order', 'VisuSubjectName': 'DL_AI2', 'VisuSubjectId': 'DL_AI2', 'VisuSubjectBirthDate': '', 'VisuSubjectSex': 'FEMALE', 'VisuSubjectComment': 'DL_AI2', 'VisuStudyUid': '2.16.756.5.5.100.380435303.12267.1689961864.4394', 'VisuStudyDate': '11:51:04 21 Jul 2023', 'VisuStudyId': '684811_2023_07_21', 'VisuStudyNumber': 2.0, 'VisuSubjectWeight': 5.0, 'VisuStudyReferringPhysician': '', 'VisuStudyDescription': '684811_2023_07_21', 'VisuSeriesNumber': 458753.0, 'VisuSubjectPosition': 'Head_Supine', 'VisuSeriesTypeId': 'ACQ_BRUKER_PVM', 'VisuAcqSoftwareVersion': '5.1', 'VisuInstitution': 'University of Washington', 'VisuStation': 'spect', 'VisuAcqDate': '11:27:33 21 Jul 2023', 'VisuAcqEchoTrainLength': 4.0, 'VisuAcqSequenceName': '(RARE (pvm))', 'VisuAcqNumberOfAverages': 2.0, 'VisuAcqImagingFrequency': 599.486710243222, 'VisuAcqImagedNucleus': '1H', 'VisuAcqRepetitionTime': 500.0, 'VisuAcqPhaseEncSteps': 164.0, 'VisuAcqPixelBandwidth': 500.0, 'VisuAcqFlipAngle': 180.0, 'VisuAcqSize': array([164., 400., 130.]), 'VisuAcqImageSizeAccellerated': 'Yes', 'VisuAcqImagePhaseEncDir': 'row_slice_dir', 'VisuAcqEchoTime': 10.6666666666667, 'VisuAcquisitionProtocol': '07c_RARE_8_3D_T2w_cor', 'VisuAcqScanTime': 5330000.0, 'END': ''}\n",
      "[ 1.  0.  0.  0.  0. -1.  0.  1.  0.]\n",
      "[[-6.1 -7.   7.9]]\n"
     ]
    }
   ],
   "source": [
    "print(metadata.scan_data['7']['recons']['1']['visu_pars'])\n",
    "cur_visu_pars = metadata.scan_data['7']['recons']['1']['visu_pars']\n",
    "print(*cur_visu_pars['VisuCoreOrientation'])\n",
    "print(cur_visu_pars['VisuCorePosition'])\n",
    "\n",
    "scan7 = metadata.read_scan('7')\n",
    "\n",
    "\n",
    "# print(scan7['recons']['1']['visu_pars'].keys())"
   ]
  },
  {
   "cell_type": "code",
   "execution_count": 6,
   "metadata": {},
   "outputs": [],
   "source": [
    "from aind_data_schema.core.mri_session import MRIScan, MriScanSequence, ScanType, SubjectPosition\n",
    "from decimal import Decimal\n",
    "from aind_data_schema.models.units import MassUnit, TimeUnit\n",
    "\n",
    "# method\n",
    "    ##$Method=RARE\n",
    "    ##$PVM_RareFactor=8,\n",
    "    ##$PVM_EchoTime=0.01,\n",
    "    ##$EffectiveTE=(1)\n",
    "    # 10.6666667\n",
    "    ##$PVM_RepetitionTime=500,\n",
    "    ##$PVM_SpatResol=( 3 )\n",
    "    # 0.1 0.1 0.1\n",
    "\n",
    "# visu_pars\n",
    "    ##$VisuCoreOrientation=( 1, 9 )\n",
    "    # 1 0 0 0 0 -1 0 1 0\n",
    "    ##$VisuCorePosition=( 1, 3 )\n",
    "    # -6.1 -7 7.9\n",
    "\n",
    "# subject\n",
    "    ##$SUBJECT_position=SUBJ_POS_Supine"
   ]
  },
  {
   "cell_type": "code",
   "execution_count": 7,
   "metadata": {},
   "outputs": [],
   "source": [
    "from bruker2nifti._metadata import BrukerMetadata\n",
    "from pathlib import Path\n",
    "from aind_data_schema.models.coordinates import Rotation3dTransform, Scale3dTransform, Translation3dTransform\n",
    "from aind_data_schema.core.mri_session import MRIScan, MriSession, MriScanSequence, ScanType, SubjectPosition\n",
    "from decimal import Decimal\n",
    "from aind_data_schema.models.units import MassUnit, TimeUnit\n",
    "from aind_data_schema.models.devices import Scanner, ScannerLocation, MagneticStrength\n",
    "from datetime import datetime\n",
    "\n",
    "import traceback\n",
    "\n",
    "\n",
    "class MRILoader:\n",
    "    def __init__(self, data_path):\n",
    "        self.metadata = BrukerMetadata(path)\n",
    "        self.metadata.parse_scans()\n",
    "        self.metadata.parse_subject()\n",
    "        self.n_scans = self.metadata.list_scans()\n",
    "\n",
    "\n",
    "    def load_mri_session(self, experimenter: str, primary_scan_number: str, setup_scan_number: str, scan_location: ScannerLocation, magnet_strength: MagneticStrength) -> MRIScan:\n",
    "\n",
    "        scans = []\n",
    "        for scan in self.n_scans:\n",
    "            scan_data = self.metadata.read_scan(scan)\n",
    "            scan_type = \"3D Scan\"\n",
    "            if scan == setup_scan_number:\n",
    "                scan_type = \"Set Up\"\n",
    "            primary_scan = False\n",
    "            if scan == primary_scan_number:\n",
    "                primary_scan = True\n",
    "            scans.append(self.make_model_from_scan(scan, scan_type, primary_scan))\n",
    "\n",
    "        return MriSession(\n",
    "\n",
    "            subject_id=\"\",\n",
    "            session_start_time=datetime.now(), \n",
    "            session_end_time=datetime.now(),\n",
    "            experimenter_full_name=experimenter, \n",
    "            protocol_id=\"\",\n",
    "            iacuc_protocol=\"\",\n",
    "            # animal_weight_prior=,\n",
    "            # animal_weight_post=,\n",
    "            # weight_unit=, \n",
    "            # anaesthesia=,\n",
    "            mri_scanner=Scanner(\n",
    "                name=\"test_scanner\",\n",
    "                scanner_location=scan_location,\n",
    "                magnetic_strength=magnet_strength, \n",
    "                magnetic_strength_unit=\"T\", \n",
    "            ),\n",
    "            scans=scans,\n",
    "            notes=\"none\"\n",
    "        )\n",
    "    \n",
    "\n",
    "    def make_model_from_scan(self, scan_index: str, scan_type, primary_scan: bool) -> MRIScan:\n",
    "        print(f'loading scan {scan_index}')\n",
    "        print(f'{self.metadata.read_scan(scan_index).keys()}')\n",
    "        \n",
    "\n",
    "        \n",
    "        self.cur_visu_pars = self.metadata.scan_data[scan_index]['recons']['1']['visu_pars']\n",
    "        self.cur_method = self.metadata.scan_data[scan_index]['method']\n",
    "\n",
    "\n",
    "        print(self.metadata.scan_data[scan_index].keys())\n",
    "        print(self.cur_method['EchoTime'])\n",
    "        subj_pos = self.metadata.subject_data[\"SUBJECT_position\"]\n",
    "        if 'supine' in subj_pos.lower():\n",
    "            subj_pos = 'Supine'\n",
    "        elif 'prone' in subj_pos.lower():\n",
    "            subj_pos = 'Prone'\n",
    "\n",
    "        scan_sequence = MriScanSequence.OTHER\n",
    "        if 'RARE' in self.cur_method['Method']:\n",
    "            scan_sequence = MriScanSequence(self.cur_method['Method'])\n",
    "\n",
    "        rare_factor = None\n",
    "        if 'RareFactor' in self.cur_method.keys():\n",
    "            rare_factor = self.cur_method['RareFactor']\n",
    "\n",
    "        print(f'orientation: {self.cur_visu_pars[\"VisuCoreOrientation\"]}')\n",
    "        print(f'position: {self.cur_visu_pars[\"VisuCorePosition\"]}')\n",
    "\n",
    "        rotation=list(*self.cur_visu_pars['VisuCoreOrientation'])\n",
    "        if isinstance(rotation, np.ndarray):\n",
    "            rotation = rotation.tolist()\n",
    "        translation=list(*self.cur_visu_pars['VisuCorePosition'])\n",
    "        if isinstance(translation, np.ndarray):\n",
    "            translation = translation.tolist()\n",
    "\n",
    "        try:\n",
    "            return MRIScan(\n",
    "                scan_index=scan_index,\n",
    "                scan_type=ScanType(scan_type), # set by scientists\n",
    "                primary_scan=primary_scan, # set by scientists\n",
    "                scan_sequence_type=scan_sequence, # method ##$Method=RARE,\n",
    "                rare_factor=rare_factor, # method ##$PVM_RareFactor=8,\n",
    "                echo_time=self.cur_method['EchoTime'], # method ##$PVM_EchoTime=0.01,\n",
    "                effective_echo_time=Decimal(self.cur_method['EffectiveTE']), # method ##$EffectiveTE=(1)\n",
    "                # echo_time_unit=TimeUnit(), # what do we want here?\n",
    "                repetition_time=self.cur_method['RepetitionTime'], # method ##$PVM_RepetitionTime=500,\n",
    "                # repetition_time_unit=TimeUnit(), # ditto\n",
    "                vc_orientation=Rotation3dTransform(rotation=rotation),# visu_pars  ##$VisuCoreOrientation=( 1, 9 )\n",
    "                vc_position=Translation3dTransform(translation=translation), # visu_pars ##$VisuCorePosition=( 1, 3 )\n",
    "                subject_position=SubjectPosition(subj_pos), # subject ##$SUBJECT_position=SUBJ_POS_Supine,\n",
    "                voxel_sizes=Scale3dTransform(scale=self.cur_method['SpatResol']), # method ##$PVM_SpatResol=( 3 )\n",
    "                processing_steps=[],\n",
    "                additional_scan_parameters={},\n",
    "                notes=\"\", # Where should we pull these?\n",
    "            )      \n",
    "        except Exception as e:\n",
    "            print(traceback.format_exc())\n",
    "            logging.error(f'Error loading scan {scan_index}: {e}') "
   ]
  },
  {
   "cell_type": "code",
   "execution_count": 8,
   "metadata": {},
   "outputs": [
    {
     "name": "stdout",
     "output_type": "stream",
     "text": [
      "loading scan 5\n",
      "dict_keys(['acqp', 'method', 'recons'])\n",
      "dict_keys(['acqp', 'method', 'recons'])\n",
      "5.33333333333333\n",
      "orientation: [[ 1.  0.  0.  0.  0. -1.  0.  1.  0.]]\n",
      "position: [[-6.1 -7.1  8.1]]\n",
      "scan_index=5 scan_type='3D Scan' primary_scan=True scan_sequence_type='RARE' rare_factor=4 echo_time=Decimal('5.33333333333333') effective_echo_time=Decimal('10.6666666666666998253276688046753406524658203125') echo_time_unit=<TimeUnit.MS: 'millisecond'> repetition_time=Decimal('500.0') repetition_time_unit=<TimeUnit.MS: 'millisecond'> vc_orientation=Rotation3dTransform(type='rotation', rotation=[Decimal('1.0'), Decimal('0.0'), Decimal('0.0'), Decimal('0.0'), Decimal('0.0'), Decimal('-1.0'), Decimal('0.0'), Decimal('1.0'), Decimal('0.0')]) vc_position=Translation3dTransform(type='translation', translation=[Decimal('-6.1'), Decimal('-7.1'), Decimal('8.1')]) subject_position='Supine' voxel_sizes=Scale3dTransform(type='scale', scale=[Decimal('0.5'), Decimal('0.4375'), Decimal('0.52')]) processing_steps=[] additional_scan_parameters=AindGeneric() notes=''\n"
     ]
    }
   ],
   "source": [
    "loader = MRILoader(path)\n",
    "scan7 = loader.make_model_from_scan('5', '3D Scan', True)\n",
    "print(scan7)"
   ]
  },
  {
   "cell_type": "code",
   "execution_count": 9,
   "metadata": {},
   "outputs": [
    {
     "name": "stdout",
     "output_type": "stream",
     "text": [
      "probes1\n"
     ]
    },
    {
     "ename": "TypeError",
     "evalue": "'str' object does not support item assignment",
     "output_type": "error",
     "traceback": [
      "\u001b[1;31m---------------------------------------------------------------------------\u001b[0m",
      "\u001b[1;31mTypeError\u001b[0m                                 Traceback (most recent call last)",
      "Cell \u001b[1;32mIn[9], line 16\u001b[0m\n\u001b[0;32m     14\u001b[0m \u001b[38;5;28;01mfor\u001b[39;00m probe \u001b[38;5;129;01min\u001b[39;00m stuff:\n\u001b[0;32m     15\u001b[0m     \u001b[38;5;28mprint\u001b[39m(probe)\n\u001b[1;32m---> 16\u001b[0m     probe[\u001b[38;5;124m'\u001b[39m\u001b[38;5;124mto_replace\u001b[39m\u001b[38;5;124m'\u001b[39m] \u001b[38;5;241m=\u001b[39m \u001b[38;5;124m\"\u001b[39m\u001b[38;5;124mreplaced\u001b[39m\u001b[38;5;124m\"\u001b[39m\n\u001b[0;32m     18\u001b[0m \u001b[38;5;28mprint\u001b[39m(stuff)\n",
      "\u001b[1;31mTypeError\u001b[0m: 'str' object does not support item assignment"
     ]
    }
   ],
   "source": [
    "stuff = {\n",
    "    'probes1': {\n",
    "        'name': \"name\",\n",
    "        'item_type': \"type\",\n",
    "        'to_replace': \"to_replace\",\n",
    "    },\n",
    "    'probes2': {\n",
    "        'name': \"name\",\n",
    "        'item_type': \"type\",\n",
    "        'to_replace': \"to_replace\",\n",
    "    }  \n",
    "}\n",
    "\n",
    "for probe in stuff:\n",
    "    print(probe)\n",
    "    probe['to_replace'] = \"replaced\"\n",
    "\n",
    "print(stuff)\n",
    "\n"
   ]
  },
  {
   "cell_type": "code",
   "execution_count": null,
   "metadata": {},
   "outputs": [
    {
     "name": "stdout",
     "output_type": "stream",
     "text": [
      "loading scan 1\n",
      "dict_keys(['acqp', 'method', 'recons'])\n",
      "dict_keys(['acqp', 'method', 'recons'])\n",
      "3.42\n",
      "orientation: [[ 1.  0.  0.  0.  1.  0.  0.  0.  1.]\n",
      " [ 0.  1.  0.  0.  0. -1. -1.  0.  0.]\n",
      " [ 1.  0.  0.  0.  0. -1.  0.  1.  0.]]\n",
      "position: [[-15. -15.   0.]\n",
      " [  0. -15.  15.]\n",
      " [-15.   0.  15.]]\n"
     ]
    },
    {
     "ename": "TypeError",
     "evalue": "list expected at most 1 argument, got 3",
     "output_type": "error",
     "traceback": [
      "\u001b[1;31m---------------------------------------------------------------------------\u001b[0m",
      "\u001b[1;31mTypeError\u001b[0m                                 Traceback (most recent call last)",
      "Cell \u001b[1;32mIn[10], line 1\u001b[0m\n\u001b[1;32m----> 1\u001b[0m session \u001b[38;5;241m=\u001b[39m loader\u001b[38;5;241m.\u001b[39mload_mri_session([\u001b[38;5;124m\"\u001b[39m\u001b[38;5;124mMae\u001b[39m\u001b[38;5;124m\"\u001b[39m], \u001b[38;5;124m\"\u001b[39m\u001b[38;5;124m7\u001b[39m\u001b[38;5;124m\"\u001b[39m, \u001b[38;5;124m\"\u001b[39m\u001b[38;5;124m1\u001b[39m\u001b[38;5;124m\"\u001b[39m, ScannerLocation\u001b[38;5;241m.\u001b[39mFRED_HUTCH, MagneticStrength\u001b[38;5;241m.\u001b[39mMRI_7T)\n",
      "Cell \u001b[1;32mIn[7], line 32\u001b[0m, in \u001b[0;36mMRILoader.load_mri_session\u001b[1;34m(self, experimenter, primary_scan_number, setup_scan_number, scan_location, magnet_strength)\u001b[0m\n\u001b[0;32m     30\u001b[0m     \u001b[38;5;28;01mif\u001b[39;00m scan \u001b[38;5;241m==\u001b[39m primary_scan_number:\n\u001b[0;32m     31\u001b[0m         primary_scan \u001b[38;5;241m=\u001b[39m \u001b[38;5;28;01mTrue\u001b[39;00m\n\u001b[1;32m---> 32\u001b[0m     scans\u001b[38;5;241m.\u001b[39mappend(\u001b[38;5;28mself\u001b[39m\u001b[38;5;241m.\u001b[39mmake_model_from_scan(scan, scan_type, primary_scan))\n\u001b[0;32m     34\u001b[0m \u001b[38;5;28;01mreturn\u001b[39;00m MriSession(\n\u001b[0;32m     35\u001b[0m \n\u001b[0;32m     36\u001b[0m     subject_id\u001b[38;5;241m=\u001b[39m\u001b[38;5;124m\"\u001b[39m\u001b[38;5;124m\"\u001b[39m,\n\u001b[1;32m   (...)\u001b[0m\n\u001b[0;32m     53\u001b[0m     notes\u001b[38;5;241m=\u001b[39m\u001b[38;5;124m\"\u001b[39m\u001b[38;5;124mnone\u001b[39m\u001b[38;5;124m\"\u001b[39m\n\u001b[0;32m     54\u001b[0m )\n",
      "Cell \u001b[1;32mIn[7], line 86\u001b[0m, in \u001b[0;36mMRILoader.make_model_from_scan\u001b[1;34m(self, scan_index, scan_type, primary_scan)\u001b[0m\n\u001b[0;32m     83\u001b[0m \u001b[38;5;28mprint\u001b[39m(\u001b[38;5;124mf\u001b[39m\u001b[38;5;124m'\u001b[39m\u001b[38;5;124morientation: \u001b[39m\u001b[38;5;132;01m{\u001b[39;00m\u001b[38;5;28mself\u001b[39m\u001b[38;5;241m.\u001b[39mcur_visu_pars[\u001b[38;5;124m\"\u001b[39m\u001b[38;5;124mVisuCoreOrientation\u001b[39m\u001b[38;5;124m\"\u001b[39m]\u001b[38;5;132;01m}\u001b[39;00m\u001b[38;5;124m'\u001b[39m)\n\u001b[0;32m     84\u001b[0m \u001b[38;5;28mprint\u001b[39m(\u001b[38;5;124mf\u001b[39m\u001b[38;5;124m'\u001b[39m\u001b[38;5;124mposition: \u001b[39m\u001b[38;5;132;01m{\u001b[39;00m\u001b[38;5;28mself\u001b[39m\u001b[38;5;241m.\u001b[39mcur_visu_pars[\u001b[38;5;124m\"\u001b[39m\u001b[38;5;124mVisuCorePosition\u001b[39m\u001b[38;5;124m\"\u001b[39m]\u001b[38;5;132;01m}\u001b[39;00m\u001b[38;5;124m'\u001b[39m)\n\u001b[1;32m---> 86\u001b[0m rotation\u001b[38;5;241m=\u001b[39m\u001b[38;5;28mlist\u001b[39m(\u001b[38;5;241m*\u001b[39m\u001b[38;5;28mself\u001b[39m\u001b[38;5;241m.\u001b[39mcur_visu_pars[\u001b[38;5;124m'\u001b[39m\u001b[38;5;124mVisuCoreOrientation\u001b[39m\u001b[38;5;124m'\u001b[39m])\n\u001b[0;32m     87\u001b[0m \u001b[38;5;28;01mif\u001b[39;00m \u001b[38;5;28misinstance\u001b[39m(rotation, np\u001b[38;5;241m.\u001b[39mndarray):\n\u001b[0;32m     88\u001b[0m     rotation \u001b[38;5;241m=\u001b[39m rotation\u001b[38;5;241m.\u001b[39mtolist()\n",
      "\u001b[1;31mTypeError\u001b[0m: list expected at most 1 argument, got 3"
     ]
    }
   ],
   "source": [
    "session = loader.load_mri_session([\"Mae\"], \"7\", \"1\", ScannerLocation.FRED_HUTCH, MagneticStrength.MRI_7T)"
   ]
  },
  {
   "cell_type": "code",
   "execution_count": null,
   "metadata": {},
   "outputs": [],
   "source": []
  },
  {
   "cell_type": "code",
   "execution_count": null,
   "metadata": {},
   "outputs": [],
   "source": []
  }
 ],
 "metadata": {
  "kernelspec": {
   "display_name": "Python 3",
   "language": "python",
   "name": "python3"
  },
  "language_info": {
   "codemirror_mode": {
    "name": "ipython",
    "version": 3
   },
   "file_extension": ".py",
   "mimetype": "text/x-python",
   "name": "python",
   "nbconvert_exporter": "python",
   "pygments_lexer": "ipython3",
   "version": "3.11.5"
  }
 },
 "nbformat": 4,
 "nbformat_minor": 2
}
