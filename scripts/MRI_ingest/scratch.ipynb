{
 "cells": [
  {
   "cell_type": "code",
   "execution_count": 6,
   "metadata": {},
   "outputs": [],
   "source": [
    "from bruker2nifti._metadata import BrukerMetadata\n",
    "from pathlib import Path"
   ]
  },
  {
   "cell_type": "code",
   "execution_count": 15,
   "metadata": {},
   "outputs": [
    {
     "name": "stdout",
     "output_type": "stream",
     "text": [
      "['1', '2', '3', '4', '5', '6', '7']\n",
      "['1']\n",
      "{'reco': {'TITLE': 'Parameter List', 'JCAMPDX': 4.24, 'DATATYPE': 'Parameter Values', 'ORIGIN': 'Bruker BioSpin MRI GmbH', 'OWNER': 'dhlee', 'RECO_mode': 'FT_MODE', 'RecoAutoDerive': 'Yes', 'RECO_inp_order': 'NO_REORDERING', 'RECO_inp_size': array([400., 164., 130.]), 'RECO_ft_size': array([400., 166., 130.]), 'RECO_fov': array([2. , 1.4, 1.3]), 'RECO_size': array([200., 140., 130.]), 'RECO_offset': array([[100.],\n",
      "       [ 13.],\n",
      "       [  0.]]), 'RECO_regrid_mode': 'NO_REGRID', 'RECO_regrid_offset': 0.0, 'RECO_ramp_gap': 0.0, 'RECO_ramp_time': 0.0, 'RECO_ne_mode': 'NO_NAV_DATA', 'RECO_ne_dist': 'NeNoInterleave', 'RECO_ne_dens': 'NeCorrPerScan', 'RECO_ne_type': 'NAV_PHASE', 'RECO_ne_vals': array([[0., 0.]]), 'RECO_bc_mode': 'NO_BC NO_BC NO_BC', 'RECO_bc_start': array([300., 123.,  98.]), 'RECO_bc_len': array([100.,  41.,  32.]), 'RECO_dc_offset': array([0., 0.]), 'RECO_dc_divisor': 1.0, 'RECO_bc_coroff': array([0., 0., 0.]), 'RECO_qopts': 'CONJ_AND_QNEG NO_QOPTS NO_QOPTS', 'RECO_wdw_mode': 'NO_WDW NO_WDW NO_WDW', 'RECO_lb': array([-0.5, -0.5, -0.5]), 'RECO_sw': array([2.e+05, 1.e+00, 1.e+00]), 'RECO_gb': array([0.5, 0.5, 0.5]), 'RECO_sbs': array([1., 1., 1.]), 'RECO_tm1': array([0.25, 0.25, 0.25]), 'RECO_tm2': array([0.75, 0.75, 0.75]), 'RECO_ft_mode': 'COMPLEX_FT COMPLEX_FT COMPLEX_FT', 'RECO_pc_mode': 'NO_PC NO_PC NO_PC', 'RECO_pc_lin': ['(0, 0)', '(0, 0)', '(0, 0)'], 'RECO_rotate': array([[0.        ],\n",
      "       [0.44578313],\n",
      "       [0.45384615]]), 'RECO_ppc_mode': 'NO_PPC', 'RECO_ref_image': 0.0, 'RECO_nr_supports': 0.4, 'RECO_sig_threshold': 0.15, 'RECO_ppc_degree': 1.0, 'RECO_ppc_coeffs': array([[[0., 0.],\n",
      "        [0., 0.],\n",
      "        [0., 0.]]]), 'RECO_dc_elim': 'No', 'RECO_transposition': 1.0, 'RECO_image_type': 'MAGNITUDE_IMAGE', 'RECO_image_threshold': 0.15, 'RECO_ir_scale': 10.0, 'RECO_wordtype': '_16BIT_SGN_INT', 'RECO_map_mode': 'PERCENTILE_MAPPING', 'RECO_map_range': array([-2.14748365e+09,  2.14748365e+09]), 'RECO_map_percentile': array([ 1.   , 99.999]), 'RECO_map_error': 0.00025, 'RECO_globex': 0.0, 'RECO_minima': 49.0, 'RECO_maxima': 32766.0, 'RECO_map_min': -13236953.9213779, 'RECO_map_max': 13236953.9213779, 'RECO_map_offset': 0.0, 'RECO_map_slope': 0.0024754183832556, 'RECO_byte_order': 'littleEndian', 'RECO_time': '11:27:33 21 Jul 2023', 'RECO_abs_time': 1689964053.0, 'RECO_base_image_uid': '2.16.756.5.5.100.380435303.14105.1689969391.16', 'GS_reco_display': 'Yes', 'GO_reco_display': 'Yes', 'GO_reco_each_nr': 'No', 'GO_max_reco_mem': 0.0, 'END': ''}, 'visu_pars': {'TITLE': 'Parameter List', 'JCAMPDX': 4.24, 'DATATYPE': 'Parameter Values', 'ORIGIN': 'Bruker BioSpin MRI GmbH', 'OWNER': 'dhlee', 'VisuVersion': 1.0, 'VisuUid': '2.16.756.5.5.100.380435303.14105.1689969391.16', 'VisuCreator': 'ParaVision', 'VisuCreatorVersion': '5.1', 'VisuCreationDate': '11:27:33 21 Jul 2023', 'VisuCoreFrameCount': 1.0, 'VisuCoreDim': 3.0, 'VisuCoreSize': array([140., 200., 130.]), 'VisuCoreDimDesc': 'spatial spatial spatial', 'VisuCoreExtent': array([14., 20., 13.]), 'VisuCoreFrameThickness': 13.0, 'VisuCoreUnits': ['mm', 'mm', 'mm'], 'VisuCoreOrientation': array([[ 1.,  0.,  0.,  0.,  0., -1.,  0.,  1.,  0.]]), 'VisuCorePosition': array([[-6.1, -7. ,  7.9]]), 'VisuCoreDataMin': 49.0, 'VisuCoreDataMax': 32766.0, 'VisuCoreDataOffs': 0.0, 'VisuCoreDataSlope': 403.972115083361, 'VisuCoreFrameType': 'MAGNITUDE_IMAGE', 'VisuCoreWordType': '_16BIT_SGN_INT', 'VisuCoreByteOrder': 'littleEndian', 'VisuCoreDiskSliceOrder': 'disk_reverse_slice_order', 'VisuSubjectName': 'DL_AI2', 'VisuSubjectId': 'DL_AI2', 'VisuSubjectBirthDate': '', 'VisuSubjectSex': 'FEMALE', 'VisuSubjectComment': 'DL_AI2', 'VisuStudyUid': '2.16.756.5.5.100.380435303.12267.1689961864.4394', 'VisuStudyDate': '11:51:04 21 Jul 2023', 'VisuStudyId': '684811_2023_07_21', 'VisuStudyNumber': 2.0, 'VisuSubjectWeight': 5.0, 'VisuStudyReferringPhysician': '', 'VisuStudyDescription': '684811_2023_07_21', 'VisuSeriesNumber': 458753.0, 'VisuSubjectPosition': 'Head_Supine', 'VisuSeriesTypeId': 'ACQ_BRUKER_PVM', 'VisuAcqSoftwareVersion': '5.1', 'VisuInstitution': 'University of Washington', 'VisuStation': 'spect', 'VisuAcqDate': '11:27:33 21 Jul 2023', 'VisuAcqEchoTrainLength': 4.0, 'VisuAcqSequenceName': '(RARE (pvm))', 'VisuAcqNumberOfAverages': 2.0, 'VisuAcqImagingFrequency': 599.486710243222, 'VisuAcqImagedNucleus': '1H', 'VisuAcqRepetitionTime': 500.0, 'VisuAcqPhaseEncSteps': 164.0, 'VisuAcqPixelBandwidth': 500.0, 'VisuAcqFlipAngle': 180.0, 'VisuAcqSize': array([164., 400., 130.]), 'VisuAcqImageSizeAccellerated': 'Yes', 'VisuAcqImagePhaseEncDir': 'row_slice_dir', 'VisuAcqEchoTime': 10.6666666666667, 'VisuAcquisitionProtocol': '07c_RARE_8_3D_T2w_cor', 'VisuAcqScanTime': 5330000.0, 'END': ''}}\n",
      "{'TITLE': 'Parameter List', 'JCAMPDX': 4.24, 'DATATYPE': 'Parameter Values', 'ORIGIN': 'Bruker BioSpin MRI GmbH', 'OWNER': 'dhlee', 'SUBJECT_version_nr': 2.0, 'SUBJECT_id': 'DL_AI2', 'SUBJECT_patient_instance_uid': '2.16.756.5.5.100.380435303.12267.1689961864.4393', 'SUBJECT_name_string': 'DL_AI2', 'SUBJECT_name': 'DL_AI2', 'SUBJECT_dbirth': '', 'SUBJECT_type': 'Human', 'SUBJECT_sex': 'female', 'SUBJECT_sex_human': 'Female', 'SUBJECT_remarks': 'DL_AI2', 'SUBJECT_study_name': '684811_2023_07_21', 'SUBJECT_study_nr': 2.0, 'SUBJECT_study_instance_uid': '2.16.756.5.5.100.380435303.12267.1689961864.4394', 'SUBJECT_size': 0.001, 'SUBJECT_weight': 5.0, 'SUBJECT_purpose': '684811_2023_07_21', 'SUBJECT_pos_valid': 'Yes', 'SUBJECT_location': 'DL_AI2', 'SUBJECT_entry': 'SUBJ_ENTRY_HeadFirst', 'SUBJECT_position': 'SUBJ_POS_Supine', 'SUBJECT_date': '10:51:04 21 Jul 2023', 'SUBJECT_abs_date': 1689961864.0, 'SUBJECT_study_coil_config_file': 'EDIT_unknown_unknown_unknown_unknown_1', 'END': ''}\n",
      "{'TITLE': 'Parameter List', 'JCAMPDX': 4.24, 'DATATYPE': 'Parameter Values', 'ORIGIN': 'Bruker BioSpin MRI GmbH', 'OWNER': 'dhlee', 'SUBJECT_version_nr': 2.0, 'SUBJECT_id': 'DL_AI2', 'SUBJECT_patient_instance_uid': '2.16.756.5.5.100.380435303.12267.1689961864.4393', 'SUBJECT_name_string': 'DL_AI2', 'SUBJECT_name': 'DL_AI2', 'SUBJECT_dbirth': '', 'SUBJECT_type': 'Human', 'SUBJECT_sex': 'female', 'SUBJECT_sex_human': 'Female', 'SUBJECT_remarks': 'DL_AI2', 'SUBJECT_study_name': '684811_2023_07_21', 'SUBJECT_study_nr': 2.0, 'SUBJECT_study_instance_uid': '2.16.756.5.5.100.380435303.12267.1689961864.4394', 'SUBJECT_size': 0.001, 'SUBJECT_weight': 5.0, 'SUBJECT_purpose': '684811_2023_07_21', 'SUBJECT_pos_valid': 'Yes', 'SUBJECT_location': 'DL_AI2', 'SUBJECT_entry': 'SUBJ_ENTRY_HeadFirst', 'SUBJECT_position': 'SUBJ_POS_Supine', 'SUBJECT_date': '10:51:04 21 Jul 2023', 'SUBJECT_abs_date': 1689961864.0, 'SUBJECT_study_coil_config_file': 'EDIT_unknown_unknown_unknown_unknown_1', 'END': ''}\n"
     ]
    }
   ],
   "source": [
    "path = Path(\"C:\\\\Users\\\\mae.moninghoff\\\\Documents\\\\GitHub\\\\aind-data-transfer\\\\scripts\\\\MRI_ingest\\\\MRI_files\\\\RawData-2023_07_21\\\\RAW\\\\DL_AI2.kX2\")\n",
    "\n",
    "metadata = BrukerMetadata(path)\n",
    "metadata.parse_scans()\n",
    "metadata.parse_subject()\n",
    "subj = metadata.read_subject()\n",
    "print(metadata.list_scans())\n",
    "print(metadata.list_recons(\"7\"))\n",
    "recon = metadata.read_recon(\"7\", \"1\")\n",
    "print(recon)\n",
    "print(subj)\n",
    "\n",
    "#best to look at are acqp and metadata files\n",
    "#reco / visupars can sometimes have useful data\n",
    "\n",
    "print(metadata.subject_data)"
   ]
  },
  {
   "cell_type": "code",
   "execution_count": null,
   "metadata": {},
   "outputs": [],
   "source": [
    "from bruker2nifti._utils import bruker_read_files"
   ]
  },
  {
   "cell_type": "code",
   "execution_count": null,
   "metadata": {},
   "outputs": [],
   "source": [
    "from aind_data_schema.imaging.mri_session import MRIScan\n",
    "\n",
    "scan = MRIScan(\n",
    "    scan_type=,\n",
    "    primary_scan=,\n",
    "    scan_sequence_type=,\n",
    "    axes=,\n",
    "    voxel_sizes=,\n",
    "    processing_steps=,\n",
    "    echo_time=,\n",
    "    effective_echo_time=,\n",
    "    echo_time_unit=,\n",
    "    repetition_time=,\n",
    "    repetition_time_unit=,\n",
    "    additional_scan_parameters=,\n",
    "    notes=,\n",
    ")"
   ]
  }
 ],
 "metadata": {
  "kernelspec": {
   "display_name": "Python 3",
   "language": "python",
   "name": "python3"
  },
  "language_info": {
   "codemirror_mode": {
    "name": "ipython",
    "version": 3
   },
   "file_extension": ".py",
   "mimetype": "text/x-python",
   "name": "python",
   "nbconvert_exporter": "python",
   "pygments_lexer": "ipython3",
   "version": "3.11.5"
  }
 },
 "nbformat": 4,
 "nbformat_minor": 2
}
